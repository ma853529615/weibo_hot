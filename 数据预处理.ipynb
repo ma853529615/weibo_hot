{
 "cells": [
  {
   "cell_type": "code",
   "execution_count": 6,
   "metadata": {},
   "outputs": [],
   "source": [
    "with open(\"./weibo_train_data/weibo_train_data.txt\",encoding='utf-8') as raw_data:\n",
    "    raw_data = raw_data.readlines()"
   ]
  },
  {
   "cell_type": "code",
   "execution_count": 9,
   "metadata": {},
   "outputs": [],
   "source": [
    "data = [a.split() for a in raw_data]"
   ]
  },
  {
   "cell_type": "code",
   "execution_count": 15,
   "metadata": {},
   "outputs": [],
   "source": [
    "from sklearn.model_selection import StratifiedShuffleSplit\n",
    "import pandas as pd"
   ]
  },
  {
   "cell_type": "code",
   "execution_count": 54,
   "metadata": {},
   "outputs": [
    {
     "name": "stdout",
     "output_type": "stream",
     "text": [
      "c81a36c59b9ca058d20f20534ae672a4\t91eb215ac47461a36dfc60f5cecb534d\t2015-04-27 09:46:30\t0\t0\t1\t \n",
      "\n"
     ]
    },
    {
     "data": {
      "text/plain": [
       "['fa13974743d3fe6ff40d21b872325e9e',\n",
       " '8169f1d45051e08ef213bf1106b1225d',\n",
       " '2015-02-14',\n",
       " '12:49:58',\n",
       " '0',\n",
       " '0',\n",
       " '0',\n",
       " '#丁辰灵的红包#挣钱是一种能力，抢红包拼的是技术。我抢到了丁辰灵',\n",
       " '和@阚洪岩',\n",
       " '一起发出的现金红包，幸福感爆棚！情人节，一起来和粉丝红包约个会吧╮',\n",
       " '(￣',\n",
       " '3￣)',\n",
       " '╭http://t.cn/RZDIVjf']"
      ]
     },
     "execution_count": 54,
     "metadata": {},
     "output_type": "execute_result"
    }
   ],
   "source": [
    "for d in range(len(data)):\n",
    "    if len(data[d])<=7:\n",
    "        print(raw_data[d])\n",
    "        \n",
    "data[1]"
   ]
  },
  {
   "cell_type": "code",
   "execution_count": 76,
   "metadata": {},
   "outputs": [],
   "source": [
    "data_dict = []\n",
    "count = 0\n",
    "for d in data:\n",
    "    sample = {}\n",
    "    \n",
    "    sample['uid'] = str(d[0])\n",
    "    sample['mid'] = str(d[1])\n",
    "    sample['date'] = str(d[2])\n",
    "    sample['time'] = str(d[3])\n",
    "    sample['forward_count'] = int(d[4])\n",
    "    sample['comment_count'] = int(d[5])\n",
    "    sample['like_count'] = int(d[6])\n",
    "    sample['content'] = ''\n",
    "    if len(d) >= 8:\n",
    "        for c in d[7]:\n",
    "            sample['content'] = sample['content']+c\n",
    "            sample['content'] = str(sample['content'])\n",
    "    sample['hot'] = int(d[4])+int(d[5])+int(d[6])\n",
    "    data_dict.append(sample)"
   ]
  },
  {
   "cell_type": "code",
   "execution_count": 77,
   "metadata": {},
   "outputs": [],
   "source": [
    "data_df = pd.DataFrame.from_dict(data_dict)"
   ]
  },
  {
   "cell_type": "code",
   "execution_count": 78,
   "metadata": {},
   "outputs": [
    {
     "name": "stdout",
     "output_type": "stream",
     "text": [
      "<class 'pandas.core.frame.DataFrame'>\n",
      "RangeIndex: 1229618 entries, 0 to 1229617\n",
      "Data columns (total 9 columns):\n",
      "comment_count    1229618 non-null int64\n",
      "content          1229618 non-null object\n",
      "date             1229618 non-null object\n",
      "forward_count    1229618 non-null int64\n",
      "hot              1229618 non-null int64\n",
      "like_count       1229618 non-null int64\n",
      "mid              1229618 non-null object\n",
      "time             1229618 non-null object\n",
      "uid              1229618 non-null object\n",
      "dtypes: int64(4), object(5)\n",
      "memory usage: 84.4+ MB\n"
     ]
    }
   ],
   "source": [
    "data_df.info()"
   ]
  },
  {
   "cell_type": "code",
   "execution_count": 79,
   "metadata": {},
   "outputs": [
    {
     "data": {
      "text/plain": [
       "count     1229618\n",
       "unique     796034\n",
       "top          分享图片\n",
       "freq         8293\n",
       "Name: content, dtype: object"
      ]
     },
     "execution_count": 79,
     "metadata": {},
     "output_type": "execute_result"
    }
   ],
   "source": [
    "data_df.content.describe()"
   ]
  },
  {
   "cell_type": "code",
   "execution_count": 242,
   "metadata": {},
   "outputs": [
    {
     "data": {
      "text/html": [
       "<div>\n",
       "<style scoped>\n",
       "    .dataframe tbody tr th:only-of-type {\n",
       "        vertical-align: middle;\n",
       "    }\n",
       "\n",
       "    .dataframe tbody tr th {\n",
       "        vertical-align: top;\n",
       "    }\n",
       "\n",
       "    .dataframe thead th {\n",
       "        text-align: right;\n",
       "    }\n",
       "</style>\n",
       "<table border=\"1\" class=\"dataframe\">\n",
       "  <thead>\n",
       "    <tr style=\"text-align: right;\">\n",
       "      <th></th>\n",
       "      <th>comment_count</th>\n",
       "      <th>forward_count</th>\n",
       "      <th>hot</th>\n",
       "      <th>like_count</th>\n",
       "      <th>hot_cat</th>\n",
       "    </tr>\n",
       "  </thead>\n",
       "  <tbody>\n",
       "    <tr>\n",
       "      <th>count</th>\n",
       "      <td>8293.000000</td>\n",
       "      <td>8293.000000</td>\n",
       "      <td>8293.000000</td>\n",
       "      <td>8293.000000</td>\n",
       "      <td>8293.000000</td>\n",
       "    </tr>\n",
       "    <tr>\n",
       "      <th>mean</th>\n",
       "      <td>0.741107</td>\n",
       "      <td>0.364163</td>\n",
       "      <td>2.615941</td>\n",
       "      <td>1.510672</td>\n",
       "      <td>1.025805</td>\n",
       "    </tr>\n",
       "    <tr>\n",
       "      <th>std</th>\n",
       "      <td>5.913461</td>\n",
       "      <td>6.277071</td>\n",
       "      <td>37.860663</td>\n",
       "      <td>29.749757</td>\n",
       "      <td>0.183259</td>\n",
       "    </tr>\n",
       "    <tr>\n",
       "      <th>min</th>\n",
       "      <td>0.000000</td>\n",
       "      <td>0.000000</td>\n",
       "      <td>0.000000</td>\n",
       "      <td>0.000000</td>\n",
       "      <td>1.000000</td>\n",
       "    </tr>\n",
       "    <tr>\n",
       "      <th>25%</th>\n",
       "      <td>0.000000</td>\n",
       "      <td>0.000000</td>\n",
       "      <td>0.000000</td>\n",
       "      <td>0.000000</td>\n",
       "      <td>1.000000</td>\n",
       "    </tr>\n",
       "    <tr>\n",
       "      <th>50%</th>\n",
       "      <td>0.000000</td>\n",
       "      <td>0.000000</td>\n",
       "      <td>0.000000</td>\n",
       "      <td>0.000000</td>\n",
       "      <td>1.000000</td>\n",
       "    </tr>\n",
       "    <tr>\n",
       "      <th>75%</th>\n",
       "      <td>0.000000</td>\n",
       "      <td>0.000000</td>\n",
       "      <td>1.000000</td>\n",
       "      <td>0.000000</td>\n",
       "      <td>1.000000</td>\n",
       "    </tr>\n",
       "    <tr>\n",
       "      <th>max</th>\n",
       "      <td>230.000000</td>\n",
       "      <td>381.000000</td>\n",
       "      <td>1577.000000</td>\n",
       "      <td>1325.000000</td>\n",
       "      <td>4.000000</td>\n",
       "    </tr>\n",
       "  </tbody>\n",
       "</table>\n",
       "</div>"
      ],
      "text/plain": [
       "       comment_count  forward_count          hot   like_count      hot_cat\n",
       "count    8293.000000    8293.000000  8293.000000  8293.000000  8293.000000\n",
       "mean        0.741107       0.364163     2.615941     1.510672     1.025805\n",
       "std         5.913461       6.277071    37.860663    29.749757     0.183259\n",
       "min         0.000000       0.000000     0.000000     0.000000     1.000000\n",
       "25%         0.000000       0.000000     0.000000     0.000000     1.000000\n",
       "50%         0.000000       0.000000     0.000000     0.000000     1.000000\n",
       "75%         0.000000       0.000000     1.000000     0.000000     1.000000\n",
       "max       230.000000     381.000000  1577.000000  1325.000000     4.000000"
      ]
     },
     "execution_count": 242,
     "metadata": {},
     "output_type": "execute_result"
    }
   ],
   "source": [
    "data_df.loc[data_df.content=='分享图片'].describe()"
   ]
  },
  {
   "cell_type": "code",
   "execution_count": 86,
   "metadata": {},
   "outputs": [
    {
     "data": {
      "text/plain": [
       "count    1.229618e+06\n",
       "mean     7.009461e+00\n",
       "std      1.268746e+02\n",
       "min      0.000000e+00\n",
       "25%      0.000000e+00\n",
       "50%      0.000000e+00\n",
       "75%      2.000000e+00\n",
       "max      5.531400e+04\n",
       "Name: hot, dtype: float64"
      ]
     },
     "execution_count": 86,
     "metadata": {},
     "output_type": "execute_result"
    }
   ],
   "source": [
    "data_df.hot.describe()"
   ]
  },
  {
   "cell_type": "code",
   "execution_count": 88,
   "metadata": {},
   "outputs": [
    {
     "data": {
      "image/png": "[encoded data removed]",
      "text/plain": [
       "<Figure size 432x288 with 1 Axes>"
      ]
     },
     "metadata": {
      "needs_background": "light"
     },
     "output_type": "display_data"
    }
   ],
   "source": [
    "%matplotlib inline               #分布差距太大\n",
    "import matplotlib.pyplot as plt\n",
    "data_df.loc[data_df.hot = 500].hist('hot',bins=50)\n",
    "plt.show()"
   ]
  },
  {
   "cell_type": "code",
   "execution_count": 131,
   "metadata": {},
   "outputs": [
    {
     "data": {
      "image/png": "[encoded data removed]",
      "text/plain": [
       "<Figure size 432x288 with 1 Axes>"
      ]
     },
     "metadata": {
      "needs_background": "light"
     },
     "output_type": "display_data"
    }
   ],
   "source": [
    "%matplotlib inline\n",
    "import matplotlib.pyplot as plt\n",
    "big_v.hist('hot',bins=100)\n",
    "plt.show()"
   ]
  },
  {
   "cell_type": "code",
   "execution_count": 124,
   "metadata": {},
   "outputs": [],
   "source": [
    "big_v = data_df.loc[data_df.hot > 400]"
   ]
  },
  {
   "cell_type": "code",
   "execution_count": 125,
   "metadata": {},
   "outputs": [
    {
     "data": {
      "text/plain": [
       "count                                 2203\n",
       "unique                                 275\n",
       "top       e88330514585dc40b7cb8f48c0e0ea2a\n",
       "freq                                   433\n",
       "Name: uid, dtype: object"
      ]
     },
     "execution_count": 125,
     "metadata": {},
     "output_type": "execute_result"
    }
   ],
   "source": [
    "big_v.uid.describe()    #十倍最优"
   ]
  },
  {
   "cell_type": "code",
   "execution_count": 126,
   "metadata": {},
   "outputs": [],
   "source": [
    "mid_v = data_df.loc[data_df.hot <= 400].loc[data_df.hot > 100]"
   ]
  },
  {
   "cell_type": "code",
   "execution_count": 213,
   "metadata": {},
   "outputs": [
    {
     "data": {
      "text/plain": [
       "count                                 9162\n",
       "unique                                 901\n",
       "top       ac4e754e41c3f328f1bf18c7fc381511\n",
       "freq                                  1599\n",
       "Name: uid, dtype: object"
      ]
     },
     "execution_count": 213,
     "metadata": {},
     "output_type": "execute_result"
    }
   ],
   "source": [
    "mid_v.uid.describe()  #十倍最优"
   ]
  },
  {
   "cell_type": "code",
   "execution_count": 198,
   "metadata": {},
   "outputs": [
    {
     "data": {
      "image/png": "[encoded data removed]",
      "text/plain": [
       "<Figure size 432x288 with 1 Axes>"
      ]
     },
     "metadata": {
      "needs_background": "light"
     },
     "output_type": "display_data"
    }
   ],
   "source": [
    "%matplotlib inline\n",
    "import matplotlib.pyplot as plt\n",
    "mid_v.hist('hot',bins=100)\n",
    "plt.show()"
   ]
  },
  {
   "cell_type": "code",
   "execution_count": 129,
   "metadata": {},
   "outputs": [],
   "source": [
    "s_v = data_df.loc[data_df.hot <= 100].loc[data_df.hot > 10]"
   ]
  },
  {
   "cell_type": "code",
   "execution_count": 130,
   "metadata": {},
   "outputs": [
    {
     "data": {
      "text/plain": [
       "count                                83025\n",
       "unique                                5706\n",
       "top       97d783c2d3353568b472103bc0463d04\n",
       "freq                                  1981\n",
       "Name: uid, dtype: object"
      ]
     },
     "execution_count": 130,
     "metadata": {},
     "output_type": "execute_result"
    }
   ],
   "source": [
    "s_v.uid.describe()   #十多倍"
   ]
  },
  {
   "cell_type": "code",
   "execution_count": 201,
   "metadata": {},
   "outputs": [
    {
     "data": {
      "image/png": "[encoded data removed]",
      "text/plain": [
       "<Figure size 432x288 with 1 Axes>"
      ]
     },
     "metadata": {
      "needs_background": "light"
     },
     "output_type": "display_data"
    }
   ],
   "source": [
    "%matplotlib inline\n",
    "import matplotlib.pyplot as plt\n",
    "s_v.hist('hot',bins=50)\n",
    "plt.show()"
   ]
  },
  {
   "cell_type": "code",
   "execution_count": 133,
   "metadata": {},
   "outputs": [
    {
     "data": {
      "text/plain": [
       "count                              1135228\n",
       "unique                               37171\n",
       "top       875a4a77b339d93f819e2c4de5bd0b57\n",
       "freq                                 31114\n",
       "Name: uid, dtype: object"
      ]
     },
     "execution_count": 133,
     "metadata": {},
     "output_type": "execute_result"
    }
   ],
   "source": [
    "v = data_df.loc[data_df.hot <= 10]\n",
    "v.uid.describe()      #重复度很高 大概三十多倍"
   ]
  },
  {
   "cell_type": "code",
   "execution_count": 203,
   "metadata": {},
   "outputs": [
    {
     "data": {
      "image/png": "[encoded data removed]",
      "text/plain": [
       "<Figure size 432x288 with 1 Axes>"
      ]
     },
     "metadata": {
      "needs_background": "light"
     },
     "output_type": "display_data"
    }
   ],
   "source": [
    "%matplotlib inline\n",
    "import matplotlib.pyplot as plt\n",
    "v.hist('hot',bins=10)\n",
    "plt.show()"
   ]
  },
  {
   "cell_type": "code",
   "execution_count": 99,
   "metadata": {},
   "outputs": [
    {
     "data": {
      "text/plain": [
       "count                              1229618\n",
       "unique                               37263\n",
       "top       875a4a77b339d93f819e2c4de5bd0b57\n",
       "freq                                 31116\n",
       "Name: uid, dtype: object"
      ]
     },
     "execution_count": 99,
     "metadata": {},
     "output_type": "execute_result"
    }
   ],
   "source": [
    "data_df.uid.describe()  #用户id作用很大，但是并不是连续的，且无法建模，可以作为先验知识"
   ]
  },
  {
   "cell_type": "code",
   "execution_count": 139,
   "metadata": {},
   "outputs": [
    {
     "data": {
      "text/html": [
       "<div>\n",
       "<style scoped>\n",
       "    .dataframe tbody tr th:only-of-type {\n",
       "        vertical-align: middle;\n",
       "    }\n",
       "\n",
       "    .dataframe tbody tr th {\n",
       "        vertical-align: top;\n",
       "    }\n",
       "\n",
       "    .dataframe thead th {\n",
       "        text-align: right;\n",
       "    }\n",
       "</style>\n",
       "<table border=\"1\" class=\"dataframe\">\n",
       "  <thead>\n",
       "    <tr style=\"text-align: right;\">\n",
       "      <th></th>\n",
       "      <th>comment_count</th>\n",
       "      <th>content</th>\n",
       "      <th>date</th>\n",
       "      <th>forward_count</th>\n",
       "      <th>hot</th>\n",
       "      <th>like_count</th>\n",
       "      <th>mid</th>\n",
       "      <th>time</th>\n",
       "      <th>uid</th>\n",
       "      <th>hot_cat</th>\n",
       "    </tr>\n",
       "  </thead>\n",
       "  <tbody>\n",
       "    <tr>\n",
       "      <th>0</th>\n",
       "      <td>0</td>\n",
       "      <td>丽江旅游(sz002033)#股票##炒股##财经##理财##投资#推荐包赢股，盈利对半分成...</td>\n",
       "      <td>2015-02-23</td>\n",
       "      <td>0</td>\n",
       "      <td>0</td>\n",
       "      <td>0</td>\n",
       "      <td>7d45833d9865727a88b960b0603c19f6</td>\n",
       "      <td>17:41:29</td>\n",
       "      <td>d38e9bed5d98110dc2489d0d1cac3c2a</td>\n",
       "      <td>1.0</td>\n",
       "    </tr>\n",
       "    <tr>\n",
       "      <th>1</th>\n",
       "      <td>0</td>\n",
       "      <td>#丁辰灵的红包#挣钱是一种能力，抢红包拼的是技术。我抢到了丁辰灵</td>\n",
       "      <td>2015-02-14</td>\n",
       "      <td>0</td>\n",
       "      <td>0</td>\n",
       "      <td>0</td>\n",
       "      <td>8169f1d45051e08ef213bf1106b1225d</td>\n",
       "      <td>12:49:58</td>\n",
       "      <td>fa13974743d3fe6ff40d21b872325e9e</td>\n",
       "      <td>1.0</td>\n",
       "    </tr>\n",
       "    <tr>\n",
       "      <th>2</th>\n",
       "      <td>0</td>\n",
       "      <td>淘宝网这些傻逼。。。气的劳资有火没地儿发~尼玛，你们都瞎了</td>\n",
       "      <td>2015-03-31</td>\n",
       "      <td>0</td>\n",
       "      <td>0</td>\n",
       "      <td>0</td>\n",
       "      <td>68cd0258c31c2c525f94febea2d9523b</td>\n",
       "      <td>13:58:06</td>\n",
       "      <td>da534fe87e7a52777bee5c30573ed5fd</td>\n",
       "      <td>1.0</td>\n",
       "    </tr>\n",
       "    <tr>\n",
       "      <th>3</th>\n",
       "      <td>4</td>\n",
       "      <td>看点不能说的，你们都懂[笑cry]</td>\n",
       "      <td>2015-06-11</td>\n",
       "      <td>0</td>\n",
       "      <td>7</td>\n",
       "      <td>3</td>\n",
       "      <td>00b9f86b4915aedb7db943c54fd19d59</td>\n",
       "      <td>20:39:57</td>\n",
       "      <td>e06a22b7e065e559a1f0bf7841a85c51</td>\n",
       "      <td>1.0</td>\n",
       "    </tr>\n",
       "    <tr>\n",
       "      <th>4</th>\n",
       "      <td>0</td>\n",
       "      <td>111多张</td>\n",
       "      <td>2015-03-10</td>\n",
       "      <td>0</td>\n",
       "      <td>0</td>\n",
       "      <td>0</td>\n",
       "      <td>c7f6f66044c0c5a3330e2c5371be6824</td>\n",
       "      <td>18:02:38</td>\n",
       "      <td>f9828598f9664d4e347ef2048ce17734</td>\n",
       "      <td>1.0</td>\n",
       "    </tr>\n",
       "  </tbody>\n",
       "</table>\n",
       "</div>"
      ],
      "text/plain": [
       "   comment_count                                            content  \\\n",
       "0              0  丽江旅游(sz002033)#股票##炒股##财经##理财##投资#推荐包赢股，盈利对半分成...   \n",
       "1              0                   #丁辰灵的红包#挣钱是一种能力，抢红包拼的是技术。我抢到了丁辰灵   \n",
       "2              0                      淘宝网这些傻逼。。。气的劳资有火没地儿发~尼玛，你们都瞎了   \n",
       "3              4                                  看点不能说的，你们都懂[笑cry]   \n",
       "4              0                                              111多张   \n",
       "\n",
       "         date  forward_count  hot  like_count  \\\n",
       "0  2015-02-23              0    0           0   \n",
       "1  2015-02-14              0    0           0   \n",
       "2  2015-03-31              0    0           0   \n",
       "3  2015-06-11              0    7           3   \n",
       "4  2015-03-10              0    0           0   \n",
       "\n",
       "                                mid      time  \\\n",
       "0  7d45833d9865727a88b960b0603c19f6  17:41:29   \n",
       "1  8169f1d45051e08ef213bf1106b1225d  12:49:58   \n",
       "2  68cd0258c31c2c525f94febea2d9523b  13:58:06   \n",
       "3  00b9f86b4915aedb7db943c54fd19d59  20:39:57   \n",
       "4  c7f6f66044c0c5a3330e2c5371be6824  18:02:38   \n",
       "\n",
       "                                uid  hot_cat  \n",
       "0  d38e9bed5d98110dc2489d0d1cac3c2a      1.0  \n",
       "1  fa13974743d3fe6ff40d21b872325e9e      1.0  \n",
       "2  da534fe87e7a52777bee5c30573ed5fd      1.0  \n",
       "3  e06a22b7e065e559a1f0bf7841a85c51      1.0  \n",
       "4  f9828598f9664d4e347ef2048ce17734      1.0  "
      ]
     },
     "execution_count": 139,
     "metadata": {},
     "output_type": "execute_result"
    }
   ],
   "source": [
    "data_df.loc[data_df['hot'] <= 10,'hot_cat'] = 1\n",
    "data_df.loc[(data_df['hot'] <= 100) & (data_df['hot'] > 10),'hot_cat'] = 2  #筛选要用& 且索引要用()\n",
    "data_df.loc[(data_df['hot'] <= 400) & (data_df['hot'] > 100),'hot_cat'] = 3\n",
    "data_df.loc[data_df['hot'] > 400,'hot_cat'] = 4\n",
    "data_df.head()"
   ]
  },
  {
   "cell_type": "code",
   "execution_count": 141,
   "metadata": {},
   "outputs": [],
   "source": [
    "split = StratifiedShuffleSplit(n_splits=1, test_size=0.2, random_state=42)"
   ]
  },
  {
   "cell_type": "code",
   "execution_count": 143,
   "metadata": {},
   "outputs": [],
   "source": [
    "for train_index, test_index in split.split(data_df,data_df['hot_cat']):\n",
    "    strat_train_set = data_df.loc[train_index]\n",
    "    strat_test_set = data_df.loc[test_index]"
   ]
  },
  {
   "cell_type": "code",
   "execution_count": 145,
   "metadata": {},
   "outputs": [
    {
     "data": {
      "text/plain": [
       "1.0    0.923236\n",
       "2.0    0.067521\n",
       "3.0    0.007452\n",
       "4.0    0.001791\n",
       "Name: hot_cat, dtype: float64"
      ]
     },
     "execution_count": 145,
     "metadata": {},
     "output_type": "execute_result"
    }
   ],
   "source": [
    "strat_train_set.hot_cat.value_counts() / len(strat_train_set)"
   ]
  },
  {
   "cell_type": "code",
   "execution_count": 146,
   "metadata": {},
   "outputs": [
    {
     "data": {
      "text/plain": [
       "1.0    0.923236\n",
       "2.0    0.067521\n",
       "3.0    0.007451\n",
       "4.0    0.001792\n",
       "Name: hot_cat, dtype: float64"
      ]
     },
     "execution_count": 146,
     "metadata": {},
     "output_type": "execute_result"
    }
   ],
   "source": [
    "data_df.hot_cat.value_counts() / len(data_df)"
   ]
  },
  {
   "cell_type": "code",
   "execution_count": 147,
   "metadata": {},
   "outputs": [],
   "source": [
    "for set in (strat_train_set, strat_test_set):\n",
    "    set.drop([\"hot_cat\"], axis=1, inplace=True)"
   ]
  },
  {
   "cell_type": "code",
   "execution_count": 190,
   "metadata": {},
   "outputs": [],
   "source": [
    "d_df = strat_train_set.copy()"
   ]
  },
  {
   "cell_type": "code",
   "execution_count": 191,
   "metadata": {},
   "outputs": [],
   "source": [
    "def cat(x):\n",
    "    x = x.split('-')\n",
    "    s = ''\n",
    "    for i in x:\n",
    "        if i != '2015':\n",
    "            s+=i\n",
    "    return int(s)\n",
    "d_df.date = d_df.date.apply(cat) #这样也行"
   ]
  },
  {
   "cell_type": "code",
   "execution_count": 192,
   "metadata": {},
   "outputs": [
    {
     "data": {
      "text/html": [
       "<div>\n",
       "<style scoped>\n",
       "    .dataframe tbody tr th:only-of-type {\n",
       "        vertical-align: middle;\n",
       "    }\n",
       "\n",
       "    .dataframe tbody tr th {\n",
       "        vertical-align: top;\n",
       "    }\n",
       "\n",
       "    .dataframe thead th {\n",
       "        text-align: right;\n",
       "    }\n",
       "</style>\n",
       "<table border=\"1\" class=\"dataframe\">\n",
       "  <thead>\n",
       "    <tr style=\"text-align: right;\">\n",
       "      <th></th>\n",
       "      <th>comment_count</th>\n",
       "      <th>content</th>\n",
       "      <th>date</th>\n",
       "      <th>forward_count</th>\n",
       "      <th>hot</th>\n",
       "      <th>like_count</th>\n",
       "      <th>mid</th>\n",
       "      <th>time</th>\n",
       "      <th>uid</th>\n",
       "    </tr>\n",
       "  </thead>\n",
       "  <tbody>\n",
       "    <tr>\n",
       "      <th>7309</th>\n",
       "      <td>0</td>\n",
       "      <td>新年红包送不停！祝愿大家过个好年！[发红包][发红包]</td>\n",
       "      <td>210</td>\n",
       "      <td>0</td>\n",
       "      <td>0</td>\n",
       "      <td>0</td>\n",
       "      <td>54a8cd1746494b16b1b80c2c112192ca</td>\n",
       "      <td>18:37:34</td>\n",
       "      <td>eef3fe17f7c9a4524beb38952c042e16</td>\n",
       "    </tr>\n",
       "    <tr>\n",
       "      <th>73324</th>\n",
       "      <td>0</td>\n",
       "      <td>有奖品这件事是要拿出来和大伙说说的，要不然心里堵得慌！我参加了活动“幸运大转盘</td>\n",
       "      <td>226</td>\n",
       "      <td>0</td>\n",
       "      <td>0</td>\n",
       "      <td>0</td>\n",
       "      <td>3e7bee15bab8b76f562361a6a1ace8ce</td>\n",
       "      <td>16:56:38</td>\n",
       "      <td>a17daedc528d1888fd56650a7cfdc616</td>\n",
       "    </tr>\n",
       "    <tr>\n",
       "      <th>446592</th>\n",
       "      <td>0</td>\n",
       "      <td>Debian</td>\n",
       "      <td>203</td>\n",
       "      <td>0</td>\n",
       "      <td>0</td>\n",
       "      <td>0</td>\n",
       "      <td>a37be0a004940cc8f6f405f416a09be3</td>\n",
       "      <td>23:02:00</td>\n",
       "      <td>b99899bd7657837aabc10e3f15198e8b</td>\n",
       "    </tr>\n",
       "    <tr>\n",
       "      <th>794512</th>\n",
       "      <td>1</td>\n",
       "      <td>【中国和德国的工业制造水平到底差多少年？】2015年6月6日，中国科学院中国现代化研究中心在...</td>\n",
       "      <td>612</td>\n",
       "      <td>6</td>\n",
       "      <td>7</td>\n",
       "      <td>0</td>\n",
       "      <td>6d94a6fdc523e76f010c0eb7ef46e5fd</td>\n",
       "      <td>16:30:03</td>\n",
       "      <td>fbdd34b9ba9c62dcd8ca0d7fac67fec1</td>\n",
       "    </tr>\n",
       "    <tr>\n",
       "      <th>151912</th>\n",
       "      <td>0</td>\n",
       "      <td>我分享了@富敏荣律师</td>\n",
       "      <td>213</td>\n",
       "      <td>0</td>\n",
       "      <td>0</td>\n",
       "      <td>0</td>\n",
       "      <td>ea16197356ace0e467a0524e062e60f0</td>\n",
       "      <td>23:03:00</td>\n",
       "      <td>4178028da14b69fab8b076755331fc6c</td>\n",
       "    </tr>\n",
       "  </tbody>\n",
       "</table>\n",
       "</div>"
      ],
      "text/plain": [
       "        comment_count                                            content  \\\n",
       "7309                0                        新年红包送不停！祝愿大家过个好年！[发红包][发红包]   \n",
       "73324               0            有奖品这件事是要拿出来和大伙说说的，要不然心里堵得慌！我参加了活动“幸运大转盘   \n",
       "446592              0                                             Debian   \n",
       "794512              1  【中国和德国的工业制造水平到底差多少年？】2015年6月6日，中国科学院中国现代化研究中心在...   \n",
       "151912              0                                         我分享了@富敏荣律师   \n",
       "\n",
       "        date  forward_count  hot  like_count  \\\n",
       "7309     210              0    0           0   \n",
       "73324    226              0    0           0   \n",
       "446592   203              0    0           0   \n",
       "794512   612              6    7           0   \n",
       "151912   213              0    0           0   \n",
       "\n",
       "                                     mid      time  \\\n",
       "7309    54a8cd1746494b16b1b80c2c112192ca  18:37:34   \n",
       "73324   3e7bee15bab8b76f562361a6a1ace8ce  16:56:38   \n",
       "446592  a37be0a004940cc8f6f405f416a09be3  23:02:00   \n",
       "794512  6d94a6fdc523e76f010c0eb7ef46e5fd  16:30:03   \n",
       "151912  ea16197356ace0e467a0524e062e60f0  23:03:00   \n",
       "\n",
       "                                     uid  \n",
       "7309    eef3fe17f7c9a4524beb38952c042e16  \n",
       "73324   a17daedc528d1888fd56650a7cfdc616  \n",
       "446592  b99899bd7657837aabc10e3f15198e8b  \n",
       "794512  fbdd34b9ba9c62dcd8ca0d7fac67fec1  \n",
       "151912  4178028da14b69fab8b076755331fc6c  "
      ]
     },
     "execution_count": 192,
     "metadata": {},
     "output_type": "execute_result"
    }
   ],
   "source": [
    "d_df.head()"
   ]
  },
  {
   "cell_type": "code",
   "execution_count": 193,
   "metadata": {},
   "outputs": [
    {
     "data": {
      "text/plain": [
       "<matplotlib.axes._subplots.AxesSubplot at 0x183b469e05c0>"
      ]
     },
     "execution_count": 193,
     "metadata": {},
     "output_type": "execute_result"
    },
    {
     "data": {
      "image/png": "[encoded data removed]",
      "text/plain": [
       "<Figure size 432x288 with 1 Axes>"
      ]
     },
     "metadata": {
      "needs_background": "light"
     },
     "output_type": "display_data"
    }
   ],
   "source": [
    "d_df.plot(kind='scatter',x = 'date',y = 'hot') #可以基本看出跟日期没什么关系 去掉日期"
   ]
  },
  {
   "cell_type": "code",
   "execution_count": 204,
   "metadata": {},
   "outputs": [
    {
     "data": {
      "text/html": [
       "<div>\n",
       "<style scoped>\n",
       "    .dataframe tbody tr th:only-of-type {\n",
       "        vertical-align: middle;\n",
       "    }\n",
       "\n",
       "    .dataframe tbody tr th {\n",
       "        vertical-align: top;\n",
       "    }\n",
       "\n",
       "    .dataframe thead th {\n",
       "        text-align: right;\n",
       "    }\n",
       "</style>\n",
       "<table border=\"1\" class=\"dataframe\">\n",
       "  <thead>\n",
       "    <tr style=\"text-align: right;\">\n",
       "      <th></th>\n",
       "      <th>comment_count</th>\n",
       "      <th>content</th>\n",
       "      <th>forward_count</th>\n",
       "      <th>hot</th>\n",
       "      <th>like_count</th>\n",
       "      <th>mid</th>\n",
       "      <th>time</th>\n",
       "      <th>uid</th>\n",
       "    </tr>\n",
       "  </thead>\n",
       "  <tbody>\n",
       "    <tr>\n",
       "      <th>7309</th>\n",
       "      <td>0</td>\n",
       "      <td>新年红包送不停！祝愿大家过个好年！[发红包][发红包]</td>\n",
       "      <td>0</td>\n",
       "      <td>0</td>\n",
       "      <td>0</td>\n",
       "      <td>54a8cd1746494b16b1b80c2c112192ca</td>\n",
       "      <td>18</td>\n",
       "      <td>eef3fe17f7c9a4524beb38952c042e16</td>\n",
       "    </tr>\n",
       "    <tr>\n",
       "      <th>73324</th>\n",
       "      <td>0</td>\n",
       "      <td>有奖品这件事是要拿出来和大伙说说的，要不然心里堵得慌！我参加了活动“幸运大转盘</td>\n",
       "      <td>0</td>\n",
       "      <td>0</td>\n",
       "      <td>0</td>\n",
       "      <td>3e7bee15bab8b76f562361a6a1ace8ce</td>\n",
       "      <td>16</td>\n",
       "      <td>a17daedc528d1888fd56650a7cfdc616</td>\n",
       "    </tr>\n",
       "    <tr>\n",
       "      <th>446592</th>\n",
       "      <td>0</td>\n",
       "      <td>Debian</td>\n",
       "      <td>0</td>\n",
       "      <td>0</td>\n",
       "      <td>0</td>\n",
       "      <td>a37be0a004940cc8f6f405f416a09be3</td>\n",
       "      <td>23</td>\n",
       "      <td>b99899bd7657837aabc10e3f15198e8b</td>\n",
       "    </tr>\n",
       "    <tr>\n",
       "      <th>794512</th>\n",
       "      <td>1</td>\n",
       "      <td>【中国和德国的工业制造水平到底差多少年？】2015年6月6日，中国科学院中国现代化研究中心在...</td>\n",
       "      <td>6</td>\n",
       "      <td>7</td>\n",
       "      <td>0</td>\n",
       "      <td>6d94a6fdc523e76f010c0eb7ef46e5fd</td>\n",
       "      <td>16</td>\n",
       "      <td>fbdd34b9ba9c62dcd8ca0d7fac67fec1</td>\n",
       "    </tr>\n",
       "    <tr>\n",
       "      <th>151912</th>\n",
       "      <td>0</td>\n",
       "      <td>我分享了@富敏荣律师</td>\n",
       "      <td>0</td>\n",
       "      <td>0</td>\n",
       "      <td>0</td>\n",
       "      <td>ea16197356ace0e467a0524e062e60f0</td>\n",
       "      <td>23</td>\n",
       "      <td>4178028da14b69fab8b076755331fc6c</td>\n",
       "    </tr>\n",
       "  </tbody>\n",
       "</table>\n",
       "</div>"
      ],
      "text/plain": [
       "        comment_count                                            content  \\\n",
       "7309                0                        新年红包送不停！祝愿大家过个好年！[发红包][发红包]   \n",
       "73324               0            有奖品这件事是要拿出来和大伙说说的，要不然心里堵得慌！我参加了活动“幸运大转盘   \n",
       "446592              0                                             Debian   \n",
       "794512              1  【中国和德国的工业制造水平到底差多少年？】2015年6月6日，中国科学院中国现代化研究中心在...   \n",
       "151912              0                                         我分享了@富敏荣律师   \n",
       "\n",
       "        forward_count  hot  like_count                               mid  \\\n",
       "7309                0    0           0  54a8cd1746494b16b1b80c2c112192ca   \n",
       "73324               0    0           0  3e7bee15bab8b76f562361a6a1ace8ce   \n",
       "446592              0    0           0  a37be0a004940cc8f6f405f416a09be3   \n",
       "794512              6    7           0  6d94a6fdc523e76f010c0eb7ef46e5fd   \n",
       "151912              0    0           0  ea16197356ace0e467a0524e062e60f0   \n",
       "\n",
       "        time                               uid  \n",
       "7309      18  eef3fe17f7c9a4524beb38952c042e16  \n",
       "73324     16  a17daedc528d1888fd56650a7cfdc616  \n",
       "446592    23  b99899bd7657837aabc10e3f15198e8b  \n",
       "794512    16  fbdd34b9ba9c62dcd8ca0d7fac67fec1  \n",
       "151912    23  4178028da14b69fab8b076755331fc6c  "
      ]
     },
     "execution_count": 204,
     "metadata": {},
     "output_type": "execute_result"
    }
   ],
   "source": [
    "d_df = strat_train_set.copy()\n",
    "d_df.drop([\"date\"], axis=1, inplace=True)\n",
    "def cat(x):\n",
    "    x = x.split(':')\n",
    "    return int(x[0])\n",
    "d_df.time = d_df.time.apply(cat) #这样也行\n",
    "d_df.head()"
   ]
  },
  {
   "cell_type": "code",
   "execution_count": 205,
   "metadata": {},
   "outputs": [
    {
     "data": {
      "text/plain": [
       "<matplotlib.axes._subplots.AxesSubplot at 0x183b42ded898>"
      ]
     },
     "execution_count": 205,
     "metadata": {},
     "output_type": "execute_result"
    },
    {
     "data": {
      "image/png": "[encoded data removed]",
      "text/plain": [
       "<Figure size 432x288 with 1 Axes>"
      ]
     },
     "metadata": {
      "needs_background": "light"
     },
     "output_type": "display_data"
    }
   ],
   "source": [
    "d_df.plot(kind='scatter',x = 'time',y = 'hot')  #基本在七八点才开始有高热度推文，跟时间的关系密切，可以单独建立模型"
   ]
  },
  {
   "cell_type": "code",
   "execution_count": 207,
   "metadata": {},
   "outputs": [
    {
     "data": {
      "text/plain": [
       "count                               983694\n",
       "unique                              983694\n",
       "top       f03a10d0fa031fa6854b7306387b459a\n",
       "freq                                     1\n",
       "Name: mid, dtype: object"
      ]
     },
     "execution_count": 207,
     "metadata": {},
     "output_type": "execute_result"
    }
   ],
   "source": [
    "d_df.mid.describe()   #推文id是全局唯一的 用df的索引代替"
   ]
  },
  {
   "cell_type": "code",
   "execution_count": 208,
   "metadata": {},
   "outputs": [],
   "source": [
    "d_df.drop([\"mid\"], axis=1, inplace=True)"
   ]
  },
  {
   "cell_type": "code",
   "execution_count": 214,
   "metadata": {
    "scrolled": true
   },
   "outputs": [
    {
     "data": {
      "text/html": [
       "<div>\n",
       "<style scoped>\n",
       "    .dataframe tbody tr th:only-of-type {\n",
       "        vertical-align: middle;\n",
       "    }\n",
       "\n",
       "    .dataframe tbody tr th {\n",
       "        vertical-align: top;\n",
       "    }\n",
       "\n",
       "    .dataframe thead th {\n",
       "        text-align: right;\n",
       "    }\n",
       "</style>\n",
       "<table border=\"1\" class=\"dataframe\">\n",
       "  <thead>\n",
       "    <tr style=\"text-align: right;\">\n",
       "      <th></th>\n",
       "      <th>comment_count</th>\n",
       "      <th>content</th>\n",
       "      <th>forward_count</th>\n",
       "      <th>hot</th>\n",
       "      <th>like_count</th>\n",
       "      <th>time</th>\n",
       "      <th>uid</th>\n",
       "    </tr>\n",
       "  </thead>\n",
       "  <tbody>\n",
       "    <tr>\n",
       "      <th>7309</th>\n",
       "      <td>0</td>\n",
       "      <td>新年红包送不停！祝愿大家过个好年！[发红包][发红包]</td>\n",
       "      <td>0</td>\n",
       "      <td>0</td>\n",
       "      <td>0</td>\n",
       "      <td>18</td>\n",
       "      <td>eef3fe17f7c9a4524beb38952c042e16</td>\n",
       "    </tr>\n",
       "    <tr>\n",
       "      <th>73324</th>\n",
       "      <td>0</td>\n",
       "      <td>有奖品这件事是要拿出来和大伙说说的，要不然心里堵得慌！我参加了活动“幸运大转盘</td>\n",
       "      <td>0</td>\n",
       "      <td>0</td>\n",
       "      <td>0</td>\n",
       "      <td>16</td>\n",
       "      <td>a17daedc528d1888fd56650a7cfdc616</td>\n",
       "    </tr>\n",
       "    <tr>\n",
       "      <th>446592</th>\n",
       "      <td>0</td>\n",
       "      <td>Debian</td>\n",
       "      <td>0</td>\n",
       "      <td>0</td>\n",
       "      <td>0</td>\n",
       "      <td>23</td>\n",
       "      <td>b99899bd7657837aabc10e3f15198e8b</td>\n",
       "    </tr>\n",
       "    <tr>\n",
       "      <th>794512</th>\n",
       "      <td>1</td>\n",
       "      <td>【中国和德国的工业制造水平到底差多少年？】2015年6月6日，中国科学院中国现代化研究中心在...</td>\n",
       "      <td>6</td>\n",
       "      <td>7</td>\n",
       "      <td>0</td>\n",
       "      <td>16</td>\n",
       "      <td>fbdd34b9ba9c62dcd8ca0d7fac67fec1</td>\n",
       "    </tr>\n",
       "    <tr>\n",
       "      <th>151912</th>\n",
       "      <td>0</td>\n",
       "      <td>我分享了@富敏荣律师</td>\n",
       "      <td>0</td>\n",
       "      <td>0</td>\n",
       "      <td>0</td>\n",
       "      <td>23</td>\n",
       "      <td>4178028da14b69fab8b076755331fc6c</td>\n",
       "    </tr>\n",
       "  </tbody>\n",
       "</table>\n",
       "</div>"
      ],
      "text/plain": [
       "        comment_count                                            content  \\\n",
       "7309                0                        新年红包送不停！祝愿大家过个好年！[发红包][发红包]   \n",
       "73324               0            有奖品这件事是要拿出来和大伙说说的，要不然心里堵得慌！我参加了活动“幸运大转盘   \n",
       "446592              0                                             Debian   \n",
       "794512              1  【中国和德国的工业制造水平到底差多少年？】2015年6月6日，中国科学院中国现代化研究中心在...   \n",
       "151912              0                                         我分享了@富敏荣律师   \n",
       "\n",
       "        forward_count  hot  like_count  time                               uid  \n",
       "7309                0    0           0    18  eef3fe17f7c9a4524beb38952c042e16  \n",
       "73324               0    0           0    16  a17daedc528d1888fd56650a7cfdc616  \n",
       "446592              0    0           0    23  b99899bd7657837aabc10e3f15198e8b  \n",
       "794512              6    7           0    16  fbdd34b9ba9c62dcd8ca0d7fac67fec1  \n",
       "151912              0    0           0    23  4178028da14b69fab8b076755331fc6c  "
      ]
     },
     "execution_count": 214,
     "metadata": {},
     "output_type": "execute_result"
    }
   ],
   "source": [
    "d_df.head()"
   ]
  },
  {
   "cell_type": "code",
   "execution_count": 218,
   "metadata": {},
   "outputs": [],
   "source": [
    "id_df = d_df.loc[:,['uid','comment_count','forward_count','like_count']]"
   ]
  },
  {
   "cell_type": "code",
   "execution_count": 232,
   "metadata": {},
   "outputs": [
    {
     "data": {
      "text/html": [
       "<div>\n",
       "<style scoped>\n",
       "    .dataframe tbody tr th:only-of-type {\n",
       "        vertical-align: middle;\n",
       "    }\n",
       "\n",
       "    .dataframe tbody tr th {\n",
       "        vertical-align: top;\n",
       "    }\n",
       "\n",
       "    .dataframe thead th {\n",
       "        text-align: right;\n",
       "    }\n",
       "</style>\n",
       "<table border=\"1\" class=\"dataframe\">\n",
       "  <thead>\n",
       "    <tr style=\"text-align: right;\">\n",
       "      <th></th>\n",
       "      <th>uid</th>\n",
       "      <th>comment_count</th>\n",
       "      <th>forward_count</th>\n",
       "      <th>like_count</th>\n",
       "    </tr>\n",
       "  </thead>\n",
       "  <tbody>\n",
       "    <tr>\n",
       "      <th>7309</th>\n",
       "      <td>eef3fe17f7c9a4524beb38952c042e16</td>\n",
       "      <td>0</td>\n",
       "      <td>0</td>\n",
       "      <td>0</td>\n",
       "    </tr>\n",
       "    <tr>\n",
       "      <th>73324</th>\n",
       "      <td>a17daedc528d1888fd56650a7cfdc616</td>\n",
       "      <td>0</td>\n",
       "      <td>0</td>\n",
       "      <td>0</td>\n",
       "    </tr>\n",
       "    <tr>\n",
       "      <th>446592</th>\n",
       "      <td>b99899bd7657837aabc10e3f15198e8b</td>\n",
       "      <td>0</td>\n",
       "      <td>0</td>\n",
       "      <td>0</td>\n",
       "    </tr>\n",
       "    <tr>\n",
       "      <th>794512</th>\n",
       "      <td>fbdd34b9ba9c62dcd8ca0d7fac67fec1</td>\n",
       "      <td>1</td>\n",
       "      <td>6</td>\n",
       "      <td>0</td>\n",
       "    </tr>\n",
       "    <tr>\n",
       "      <th>151912</th>\n",
       "      <td>4178028da14b69fab8b076755331fc6c</td>\n",
       "      <td>0</td>\n",
       "      <td>0</td>\n",
       "      <td>0</td>\n",
       "    </tr>\n",
       "  </tbody>\n",
       "</table>\n",
       "</div>"
      ],
      "text/plain": [
       "                                     uid  comment_count  forward_count  \\\n",
       "7309    eef3fe17f7c9a4524beb38952c042e16              0              0   \n",
       "73324   a17daedc528d1888fd56650a7cfdc616              0              0   \n",
       "446592  b99899bd7657837aabc10e3f15198e8b              0              0   \n",
       "794512  fbdd34b9ba9c62dcd8ca0d7fac67fec1              1              6   \n",
       "151912  4178028da14b69fab8b076755331fc6c              0              0   \n",
       "\n",
       "        like_count  \n",
       "7309             0  \n",
       "73324            0  \n",
       "446592           0  \n",
       "794512           0  \n",
       "151912           0  "
      ]
     },
     "execution_count": 232,
     "metadata": {},
     "output_type": "execute_result"
    }
   ],
   "source": [
    "id_df.to_csv('./data/train_id.csv')\n",
    "id_df.head() #作为先验知识建模"
   ]
  },
  {
   "cell_type": "code",
   "execution_count": 222,
   "metadata": {},
   "outputs": [
    {
     "data": {
      "text/html": [
       "<div>\n",
       "<style scoped>\n",
       "    .dataframe tbody tr th:only-of-type {\n",
       "        vertical-align: middle;\n",
       "    }\n",
       "\n",
       "    .dataframe tbody tr th {\n",
       "        vertical-align: top;\n",
       "    }\n",
       "\n",
       "    .dataframe thead th {\n",
       "        text-align: right;\n",
       "    }\n",
       "</style>\n",
       "<table border=\"1\" class=\"dataframe\">\n",
       "  <thead>\n",
       "    <tr style=\"text-align: right;\">\n",
       "      <th></th>\n",
       "      <th>time</th>\n",
       "      <th>comment_count</th>\n",
       "      <th>forward_count</th>\n",
       "      <th>like_count</th>\n",
       "    </tr>\n",
       "  </thead>\n",
       "  <tbody>\n",
       "    <tr>\n",
       "      <th>7309</th>\n",
       "      <td>18</td>\n",
       "      <td>0</td>\n",
       "      <td>0</td>\n",
       "      <td>0</td>\n",
       "    </tr>\n",
       "    <tr>\n",
       "      <th>73324</th>\n",
       "      <td>16</td>\n",
       "      <td>0</td>\n",
       "      <td>0</td>\n",
       "      <td>0</td>\n",
       "    </tr>\n",
       "    <tr>\n",
       "      <th>446592</th>\n",
       "      <td>23</td>\n",
       "      <td>0</td>\n",
       "      <td>0</td>\n",
       "      <td>0</td>\n",
       "    </tr>\n",
       "    <tr>\n",
       "      <th>794512</th>\n",
       "      <td>16</td>\n",
       "      <td>1</td>\n",
       "      <td>6</td>\n",
       "      <td>0</td>\n",
       "    </tr>\n",
       "    <tr>\n",
       "      <th>151912</th>\n",
       "      <td>23</td>\n",
       "      <td>0</td>\n",
       "      <td>0</td>\n",
       "      <td>0</td>\n",
       "    </tr>\n",
       "  </tbody>\n",
       "</table>\n",
       "</div>"
      ],
      "text/plain": [
       "        time  comment_count  forward_count  like_count\n",
       "7309      18              0              0           0\n",
       "73324     16              0              0           0\n",
       "446592    23              0              0           0\n",
       "794512    16              1              6           0\n",
       "151912    23              0              0           0"
      ]
     },
     "execution_count": 222,
     "metadata": {},
     "output_type": "execute_result"
    }
   ],
   "source": [
    "time_df = d_df.loc[:,['time','comment_count','forward_count','like_count']]\n",
    "time_df.head()"
   ]
  },
  {
   "cell_type": "code",
   "execution_count": 233,
   "metadata": {},
   "outputs": [],
   "source": [
    "time_df.to_csv('./data/train_time.csv')"
   ]
  },
  {
   "cell_type": "code",
   "execution_count": 223,
   "metadata": {},
   "outputs": [
    {
     "data": {
      "text/html": [
       "<div>\n",
       "<style scoped>\n",
       "    .dataframe tbody tr th:only-of-type {\n",
       "        vertical-align: middle;\n",
       "    }\n",
       "\n",
       "    .dataframe tbody tr th {\n",
       "        vertical-align: top;\n",
       "    }\n",
       "\n",
       "    .dataframe thead th {\n",
       "        text-align: right;\n",
       "    }\n",
       "</style>\n",
       "<table border=\"1\" class=\"dataframe\">\n",
       "  <thead>\n",
       "    <tr style=\"text-align: right;\">\n",
       "      <th></th>\n",
       "      <th>content</th>\n",
       "      <th>comment_count</th>\n",
       "      <th>forward_count</th>\n",
       "      <th>like_count</th>\n",
       "    </tr>\n",
       "  </thead>\n",
       "  <tbody>\n",
       "    <tr>\n",
       "      <th>7309</th>\n",
       "      <td>新年红包送不停！祝愿大家过个好年！[发红包][发红包]</td>\n",
       "      <td>0</td>\n",
       "      <td>0</td>\n",
       "      <td>0</td>\n",
       "    </tr>\n",
       "    <tr>\n",
       "      <th>73324</th>\n",
       "      <td>有奖品这件事是要拿出来和大伙说说的，要不然心里堵得慌！我参加了活动“幸运大转盘</td>\n",
       "      <td>0</td>\n",
       "      <td>0</td>\n",
       "      <td>0</td>\n",
       "    </tr>\n",
       "    <tr>\n",
       "      <th>446592</th>\n",
       "      <td>Debian</td>\n",
       "      <td>0</td>\n",
       "      <td>0</td>\n",
       "      <td>0</td>\n",
       "    </tr>\n",
       "    <tr>\n",
       "      <th>794512</th>\n",
       "      <td>【中国和德国的工业制造水平到底差多少年？】2015年6月6日，中国科学院中国现代化研究中心在...</td>\n",
       "      <td>1</td>\n",
       "      <td>6</td>\n",
       "      <td>0</td>\n",
       "    </tr>\n",
       "    <tr>\n",
       "      <th>151912</th>\n",
       "      <td>我分享了@富敏荣律师</td>\n",
       "      <td>0</td>\n",
       "      <td>0</td>\n",
       "      <td>0</td>\n",
       "    </tr>\n",
       "  </tbody>\n",
       "</table>\n",
       "</div>"
      ],
      "text/plain": [
       "                                                  content  comment_count  \\\n",
       "7309                          新年红包送不停！祝愿大家过个好年！[发红包][发红包]              0   \n",
       "73324             有奖品这件事是要拿出来和大伙说说的，要不然心里堵得慌！我参加了活动“幸运大转盘              0   \n",
       "446592                                             Debian              0   \n",
       "794512  【中国和德国的工业制造水平到底差多少年？】2015年6月6日，中国科学院中国现代化研究中心在...              1   \n",
       "151912                                         我分享了@富敏荣律师              0   \n",
       "\n",
       "        forward_count  like_count  \n",
       "7309                0           0  \n",
       "73324               0           0  \n",
       "446592              0           0  \n",
       "794512              6           0  \n",
       "151912              0           0  "
      ]
     },
     "execution_count": 223,
     "metadata": {},
     "output_type": "execute_result"
    }
   ],
   "source": [
    "contend_df = d_df.loc[:,['content','comment_count','forward_count','like_count']]\n",
    "contend_df.head()"
   ]
  },
  {
   "cell_type": "code",
   "execution_count": 235,
   "metadata": {},
   "outputs": [],
   "source": [
    "contend_df.to_csv('./data/train_content.csv')"
   ]
  },
  {
   "cell_type": "markdown",
   "metadata": {},
   "source": [
    "对验证集做同样操作"
   ]
  },
  {
   "cell_type": "code",
   "execution_count": 228,
   "metadata": {},
   "outputs": [],
   "source": [
    "def cat_time(x):\n",
    "    x = x.split(':')\n",
    "    return int(x[0])\n",
    "val_df = strat_test_set.copy()\n",
    "val_df.drop([\"date\"], axis=1, inplace=True)\n",
    "val_df.time = val_df.time.apply(cat)\n",
    "val_id_df = val_df.loc[:,['uid','comment_count','forward_count','like_count']]\n",
    "val_time_df = val_df.loc[:,['time','comment_count','forward_count','like_count']]\n",
    "val_contend_df = val_df.loc[:,['content','comment_count','forward_count','like_count']]"
   ]
  },
  {
   "cell_type": "code",
   "execution_count": 236,
   "metadata": {},
   "outputs": [],
   "source": [
    "val_id_df.head()\n",
    "val_id_df.to_csv('./data/val_id.csv')"
   ]
  },
  {
   "cell_type": "code",
   "execution_count": 238,
   "metadata": {},
   "outputs": [],
   "source": [
    "val_time_df.head()\n",
    "val_time_df.to_csv('./data/val_time.csv')"
   ]
  },
  {
   "cell_type": "code",
   "execution_count": 239,
   "metadata": {},
   "outputs": [],
   "source": [
    "val_contend_df.head()\n",
    "val_contend_df.to_csv('./data/val_content.csv')"
   ]
  },
  {
   "cell_type": "code",
   "execution_count": null,
   "metadata": {},
   "outputs": [],
   "source": []
  }
 ],
 "metadata": {
  "kernelspec": {
   "display_name": "Python 3",
   "language": "python",
   "name": "python3"
  },
  "language_info": {
   "codemirror_mode": {
    "name": "ipython",
    "version": 3
   },
   "file_extension": ".py",
   "mimetype": "text/x-python",
   "name": "python",
   "nbconvert_exporter": "python",
   "pygments_lexer": "ipython3",
   "version": "3.7.3"
  },
  "toc": {
   "base_numbering": 1,
   "nav_menu": {},
   "number_sections": true,
   "sideBar": true,
   "skip_h1_title": false,
   "title_cell": "Table of Contents",
   "title_sidebar": "Contents",
   "toc_cell": false,
   "toc_position": {},
   "toc_section_display": true,
   "toc_window_display": false
  }
 },
 "nbformat": 4,
 "nbformat_minor": 2
}
